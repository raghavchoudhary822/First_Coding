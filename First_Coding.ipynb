{
 "cells": [
  {
   "cell_type": "code",
   "execution_count": null,
   "id": "14a73154-5103-4cab-b11d-cc0836a62ebc",
   "metadata": {},
   "outputs": [],
   "source": [
    "age=int(input(\"Enter a number\"))\n",
    "if age>=18:\n",
    "        print(\"You are eligible\")\n",
    "else:\n",
    "     print(\"You are not eligible\")    "
   ]
  },
  {
   "cell_type": "code",
   "execution_count": null,
   "id": "13cb4ec3-868f-42b0-9ea7-2705eda2d7ac",
   "metadata": {},
   "outputs": [],
   "source": []
  }
 ],
 "metadata": {
  "kernelspec": {
   "display_name": "Python 3 (ipykernel)",
   "language": "python",
   "name": "python3"
  },
  "language_info": {
   "codemirror_mode": {
    "name": "ipython",
    "version": 3
   },
   "file_extension": ".py",
   "mimetype": "text/x-python",
   "name": "python",
   "nbconvert_exporter": "python",
   "pygments_lexer": "ipython3",
   "version": "3.10.8"
  }
 },
 "nbformat": 4,
 "nbformat_minor": 5
}
